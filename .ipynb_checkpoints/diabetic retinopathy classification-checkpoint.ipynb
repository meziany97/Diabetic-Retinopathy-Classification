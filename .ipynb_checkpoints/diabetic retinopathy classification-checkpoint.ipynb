{
 "cells": [
  {
   "cell_type": "code",
   "execution_count": 2,
   "id": "1d32d777",
   "metadata": {},
   "outputs": [],
   "source": [
    "import os \n",
    "import keras as keras \n",
    "import tensorflow as tf\n",
    "import pandas \n",
    "import numpy as np\n",
    "from   keras import layers, models\n",
    "from PIL import Image, ImageFile \n",
    "import seaborn as sns \n",
    "from os import listdir\n",
    "import matplotlib.pyplot as plt\n",
    "%matplotlib inline\n",
    "\n"
   ]
  },
  {
   "cell_type": "markdown",
   "id": "cba31864",
   "metadata": {},
   "source": [
    "# import the dataset"
   ]
  },
  {
   "cell_type": "code",
   "execution_count": 2,
   "id": "5d1dd37e",
   "metadata": {},
   "outputs": [
    {
     "data": {
      "text/plain": [
       "['0_No_DR', '1_Mild', '2_Moderate', '3_Severe', '4_Proliferate_DR']"
      ]
     },
     "execution_count": 2,
     "metadata": {},
     "output_type": "execute_result"
    }
   ],
   "source": [
    "training_data_path = \"dataset/Diabetic_Retinopathy/training_set\"\n",
    "os.listdir(training_data_path)\n",
    "testing_data_path = \"dataset/Diabetic_Retinopathy/test_set\"\n",
    "os.listdir(testing_data_path)"
   ]
  },
  {
   "cell_type": "code",
   "execution_count": 3,
   "id": "1ed431fd",
   "metadata": {},
   "outputs": [],
   "source": [
    "batch_size  = 32 \n",
    "image_width = 180\n",
    "image_height= 180 "
   ]
  },
  {
   "cell_type": "markdown",
   "id": "29ed133a",
   "metadata": {},
   "source": [
    "# defining the training dataset and  validation dataset"
   ]
  },
  {
   "cell_type": "code",
   "execution_count": 4,
   "id": "bca841a1",
   "metadata": {},
   "outputs": [
    {
     "name": "stdout",
     "output_type": "stream",
     "text": [
      "Found 1499 files belonging to 5 classes.\n",
      "Found 440 files belonging to 5 classes.\n"
     ]
    }
   ],
   "source": [
    "training_set = tf.keras.preprocessing.image_dataset_from_directory(\n",
    "    training_data_path,\n",
    "    shuffle             = True,\n",
    "    image_size       = (image_height,image_width),\n",
    "    batch_size       = batch_size\n",
    ")\n",
    "# ------------------------------ \n",
    "testing_set = tf.keras.preprocessing.image_dataset_from_directory(\n",
    "    testing_data_path,\n",
    "    shuffle             = True,\n",
    "    image_size       = (image_height,image_width),\n",
    "    batch_size       = batch_size\n",
    ")"
   ]
  },
  {
   "cell_type": "code",
   "execution_count": 5,
   "id": "19105fa9",
   "metadata": {
    "scrolled": true
   },
   "outputs": [
    {
     "name": "stdout",
     "output_type": "stream",
     "text": [
      "Class N:0_No_DR\n",
      "Class N:1_Mild\n",
      "Class N:2_Moderate\n",
      "Class N:3_Severe\n",
      "Class N:4_Proliferate_DR\n",
      "===> 5 Classes Found\n"
     ]
    }
   ],
   "source": [
    "classes_name = training_set.class_names \n",
    "num_classes = len(classes_name)\n",
    "for cla in classes_name:\n",
    "    print(f\"Class N:{cla}\")\n",
    "print(f\"===> {len(classes_name)} Classes Found\")"
   ]
  },
  {
   "cell_type": "code",
   "execution_count": 6,
   "id": "d557399f",
   "metadata": {},
   "outputs": [],
   "source": [
    "data_augmentaion = tf.keras.Sequential(\n",
    "[\n",
    "    tf.keras.layers.experimental.preprocessing.RandomFlip(\"horizontal\"),\n",
    "    tf.keras.layers.experimental.preprocessing.RandomRotation(0.1),\n",
    "])"
   ]
  },
  {
   "cell_type": "markdown",
   "id": "ef0ffa13",
   "metadata": {},
   "source": [
    "# Create the model"
   ]
  },
  {
   "cell_type": "code",
   "execution_count": 7,
   "id": "d9230c16",
   "metadata": {
    "scrolled": true
   },
   "outputs": [],
   "source": [
    "base_model = tf.keras.applications.ResNet50(\n",
    "    weights = 'imagenet',\n",
    "    input_shape = (image_height,image_width,3),\n",
    "    include_top = False\n",
    ")\n",
    "base_model.trainable = False \n",
    "inputs_ = tf.keras.Input(shape=(180,180,3))\n",
    "X = data_augmentaion(inputs_)\n",
    "X = tf.keras.applications.xception.preprocess_input(X)\n",
    "x = base_model(X, training = False)\n",
    "x = tf.keras.layers.GlobalAveragePooling2D()(x)\n",
    "x = tf.keras.layers.Dropout(0.2)(x)\n",
    "outputs_ = tf.keras.layers.Dense(num_classes, activation=\"softmax\")(x) \n",
    "model_ = tf.keras.Model(inputs_ , outputs_ )\n"
   ]
  },
  {
   "cell_type": "code",
   "execution_count": 8,
   "id": "58457270",
   "metadata": {
    "scrolled": true
   },
   "outputs": [
    {
     "name": "stdout",
     "output_type": "stream",
     "text": [
      "Model: \"model\"\n",
      "_________________________________________________________________\n",
      " Layer (type)                Output Shape              Param #   \n",
      "=================================================================\n",
      " input_2 (InputLayer)        [(None, 180, 180, 3)]     0         \n",
      "                                                                 \n",
      " sequential (Sequential)     (None, 180, 180, 3)       0         \n",
      "                                                                 \n",
      " tf.math.truediv (TFOpLambda  (None, 180, 180, 3)      0         \n",
      " )                                                               \n",
      "                                                                 \n",
      " tf.math.subtract (TFOpLambd  (None, 180, 180, 3)      0         \n",
      " a)                                                              \n",
      "                                                                 \n",
      " resnet50 (Functional)       (None, 6, 6, 2048)        23587712  \n",
      "                                                                 \n",
      " global_average_pooling2d (G  (None, 2048)             0         \n",
      " lobalAveragePooling2D)                                          \n",
      "                                                                 \n",
      " dropout (Dropout)           (None, 2048)              0         \n",
      "                                                                 \n",
      " dense (Dense)               (None, 5)                 10245     \n",
      "                                                                 \n",
      "=================================================================\n",
      "Total params: 23,597,957\n",
      "Trainable params: 10,245\n",
      "Non-trainable params: 23,587,712\n",
      "_________________________________________________________________\n"
     ]
    }
   ],
   "source": [
    "model_.compile(optimizer=\"adam\", \n",
    "                  loss=tf.keras.losses.SparseCategoricalCrossentropy(from_logits=True), metrics=[\"accuracy\"])\n",
    "# history = model.fit(training_data, validation_data=valid_data,epochs=100,callbacks=callbacks)\n",
    "model_.summary()\n",
    "callbacks = [\n",
    "        keras.callbacks.EarlyStopping(monitor=\"val_loss\",patience=20),\n",
    "        keras.callbacks.ModelCheckpoint(filepath=\"saved_model/train.ckpt\",monitor=\"val_loss\", save_best_only=True)\n",
    "    ]"
   ]
  },
  {
   "cell_type": "code",
   "execution_count": 9,
   "id": "cff7c8b3",
   "metadata": {},
   "outputs": [
    {
     "name": "stdout",
     "output_type": "stream",
     "text": [
      "Epoch 1/100\n",
      "WARNING:tensorflow:Using a while_loop for converting RngReadAndSkip cause there is no registered converter for this op.\n",
      "WARNING:tensorflow:Using a while_loop for converting Bitcast cause there is no registered converter for this op.\n",
      "WARNING:tensorflow:Using a while_loop for converting Bitcast cause there is no registered converter for this op.\n",
      "WARNING:tensorflow:Using a while_loop for converting StatelessRandomUniformV2 cause there is no registered converter for this op.\n",
      "WARNING:tensorflow:Using a while_loop for converting ImageProjectiveTransformV3 cause there is no registered converter for this op.\n"
     ]
    },
    {
     "name": "stderr",
     "output_type": "stream",
     "text": [
      "C:\\Users\\pc\\anaconda3\\lib\\site-packages\\tensorflow\\python\\util\\dispatch.py:1170: UserWarning: \"`sparse_categorical_crossentropy` received `from_logits=True`, but the `output` argument was produced by a sigmoid or softmax activation and thus does not represent logits. Was this intended?\"\n",
      "  return dispatch_target(*args, **kwargs)\n"
     ]
    },
    {
     "name": "stdout",
     "output_type": "stream",
     "text": [
      "WARNING:tensorflow:Using a while_loop for converting RngReadAndSkip cause there is no registered converter for this op.\n",
      "WARNING:tensorflow:Using a while_loop for converting Bitcast cause there is no registered converter for this op.\n",
      "WARNING:tensorflow:Using a while_loop for converting Bitcast cause there is no registered converter for this op.\n",
      "WARNING:tensorflow:Using a while_loop for converting StatelessRandomUniformV2 cause there is no registered converter for this op.\n",
      "WARNING:tensorflow:Using a while_loop for converting ImageProjectiveTransformV3 cause there is no registered converter for this op.\n",
      "47/47 [==============================] - 326s 7s/step - loss: 1.5342 - accuracy: 0.3369 - val_loss: 1.3953 - val_accuracy: 0.3727\n",
      "Epoch 2/100\n",
      "47/47 [==============================] - 312s 7s/step - loss: 1.4354 - accuracy: 0.3923 - val_loss: 1.3442 - val_accuracy: 0.4136\n",
      "Epoch 3/100\n",
      "47/47 [==============================] - 312s 7s/step - loss: 1.4207 - accuracy: 0.3923 - val_loss: 1.3576 - val_accuracy: 0.3886\n",
      "Epoch 4/100\n",
      "47/47 [==============================] - 312s 7s/step - loss: 1.3823 - accuracy: 0.4009 - val_loss: 1.3335 - val_accuracy: 0.3932\n",
      "Epoch 5/100\n",
      "47/47 [==============================] - 324s 7s/step - loss: 1.3605 - accuracy: 0.4116 - val_loss: 1.2869 - val_accuracy: 0.3955\n",
      "Epoch 6/100\n",
      "47/47 [==============================] - 314s 7s/step - loss: 1.3701 - accuracy: 0.4123 - val_loss: 1.3099 - val_accuracy: 0.3977\n",
      "Epoch 7/100\n",
      "47/47 [==============================] - 314s 7s/step - loss: 1.3481 - accuracy: 0.4189 - val_loss: 1.2886 - val_accuracy: 0.4023\n",
      "Epoch 8/100\n",
      "47/47 [==============================] - 315s 7s/step - loss: 1.3502 - accuracy: 0.4236 - val_loss: 1.2834 - val_accuracy: 0.4114\n",
      "Epoch 9/100\n",
      "47/47 [==============================] - 315s 7s/step - loss: 1.3385 - accuracy: 0.4343 - val_loss: 1.3375 - val_accuracy: 0.3591\n",
      "Epoch 10/100\n",
      "47/47 [==============================] - 315s 7s/step - loss: 1.3373 - accuracy: 0.4189 - val_loss: 1.2745 - val_accuracy: 0.4045\n",
      "Epoch 11/100\n",
      "47/47 [==============================] - 315s 7s/step - loss: 1.3154 - accuracy: 0.4383 - val_loss: 1.2509 - val_accuracy: 0.4341\n",
      "Epoch 12/100\n",
      "47/47 [==============================] - 316s 7s/step - loss: 1.3221 - accuracy: 0.4283 - val_loss: 1.2783 - val_accuracy: 0.4341\n",
      "Epoch 13/100\n",
      "47/47 [==============================] - 319s 7s/step - loss: 1.3104 - accuracy: 0.4523 - val_loss: 1.2432 - val_accuracy: 0.4364\n",
      "Epoch 14/100\n",
      "47/47 [==============================] - 321s 7s/step - loss: 1.3086 - accuracy: 0.4483 - val_loss: 1.2442 - val_accuracy: 0.4341\n",
      "Epoch 15/100\n",
      "47/47 [==============================] - 321s 7s/step - loss: 1.2980 - accuracy: 0.4510 - val_loss: 1.2476 - val_accuracy: 0.5000\n",
      "Epoch 16/100\n",
      "47/47 [==============================] - 330s 7s/step - loss: 1.3003 - accuracy: 0.4376 - val_loss: 1.2279 - val_accuracy: 0.5023\n",
      "Epoch 17/100\n",
      "47/47 [==============================] - 322s 7s/step - loss: 1.3116 - accuracy: 0.4430 - val_loss: 1.2493 - val_accuracy: 0.4864\n",
      "Epoch 18/100\n",
      "47/47 [==============================] - 323s 7s/step - loss: 1.2947 - accuracy: 0.4510 - val_loss: 1.2438 - val_accuracy: 0.4727\n",
      "Epoch 19/100\n",
      "47/47 [==============================] - 323s 7s/step - loss: 1.2905 - accuracy: 0.4503 - val_loss: 1.2460 - val_accuracy: 0.4341\n",
      "Epoch 20/100\n",
      "47/47 [==============================] - 318s 7s/step - loss: 1.2825 - accuracy: 0.4650 - val_loss: 1.2302 - val_accuracy: 0.4545\n",
      "Epoch 21/100\n",
      "47/47 [==============================] - 313s 7s/step - loss: 1.2842 - accuracy: 0.4550 - val_loss: 1.2096 - val_accuracy: 0.4909\n",
      "Epoch 22/100\n",
      "47/47 [==============================] - 314s 7s/step - loss: 1.2705 - accuracy: 0.4763 - val_loss: 1.2253 - val_accuracy: 0.4500\n",
      "Epoch 23/100\n",
      "47/47 [==============================] - 315s 7s/step - loss: 1.2755 - accuracy: 0.4610 - val_loss: 1.2228 - val_accuracy: 0.5045\n",
      "Epoch 24/100\n",
      "47/47 [==============================] - 316s 7s/step - loss: 1.2718 - accuracy: 0.4710 - val_loss: 1.2213 - val_accuracy: 0.4659\n",
      "Epoch 25/100\n",
      "47/47 [==============================] - 316s 7s/step - loss: 1.2851 - accuracy: 0.4656 - val_loss: 1.2180 - val_accuracy: 0.4455\n",
      "Epoch 26/100\n",
      "47/47 [==============================] - 316s 7s/step - loss: 1.2723 - accuracy: 0.4690 - val_loss: 1.2167 - val_accuracy: 0.4386\n",
      "Epoch 27/100\n",
      "47/47 [==============================] - 323s 7s/step - loss: 1.2667 - accuracy: 0.4750 - val_loss: 1.2262 - val_accuracy: 0.4682\n",
      "Epoch 28/100\n",
      "47/47 [==============================] - 317s 7s/step - loss: 1.2772 - accuracy: 0.4530 - val_loss: 1.2122 - val_accuracy: 0.5386\n",
      "Epoch 29/100\n",
      "47/47 [==============================] - 318s 7s/step - loss: 1.2684 - accuracy: 0.4710 - val_loss: 1.2094 - val_accuracy: 0.4909\n",
      "Epoch 30/100\n",
      "47/47 [==============================] - 318s 7s/step - loss: 1.2660 - accuracy: 0.4710 - val_loss: 1.2265 - val_accuracy: 0.4886\n",
      "Epoch 31/100\n",
      "47/47 [==============================] - 318s 7s/step - loss: 1.2794 - accuracy: 0.4636 - val_loss: 1.2092 - val_accuracy: 0.5000\n",
      "Epoch 32/100\n",
      "47/47 [==============================] - 319s 7s/step - loss: 1.2648 - accuracy: 0.4743 - val_loss: 1.2239 - val_accuracy: 0.4227\n",
      "Epoch 33/100\n",
      "47/47 [==============================] - 319s 7s/step - loss: 1.2763 - accuracy: 0.4503 - val_loss: 1.2065 - val_accuracy: 0.4886\n",
      "Epoch 34/100\n",
      "47/47 [==============================] - 320s 7s/step - loss: 1.2736 - accuracy: 0.4730 - val_loss: 1.2234 - val_accuracy: 0.4818\n",
      "Epoch 35/100\n",
      "47/47 [==============================] - 319s 7s/step - loss: 1.2507 - accuracy: 0.4763 - val_loss: 1.2016 - val_accuracy: 0.4841\n",
      "Epoch 36/100\n",
      "47/47 [==============================] - 319s 7s/step - loss: 1.2578 - accuracy: 0.4696 - val_loss: 1.2113 - val_accuracy: 0.4909\n",
      "Epoch 37/100\n",
      "47/47 [==============================] - 318s 7s/step - loss: 1.2583 - accuracy: 0.4897 - val_loss: 1.1987 - val_accuracy: 0.4841\n",
      "Epoch 38/100\n",
      "47/47 [==============================] - 325s 7s/step - loss: 1.2555 - accuracy: 0.4730 - val_loss: 1.2087 - val_accuracy: 0.4705\n",
      "Epoch 39/100\n",
      "47/47 [==============================] - 326s 7s/step - loss: 1.2655 - accuracy: 0.4810 - val_loss: 1.2141 - val_accuracy: 0.4659\n",
      "Epoch 40/100\n",
      "47/47 [==============================] - 321s 7s/step - loss: 1.2630 - accuracy: 0.4743 - val_loss: 1.2023 - val_accuracy: 0.4523\n",
      "Epoch 41/100\n",
      "47/47 [==============================] - 320s 7s/step - loss: 1.2567 - accuracy: 0.4837 - val_loss: 1.1876 - val_accuracy: 0.5136\n",
      "Epoch 42/100\n",
      "47/47 [==============================] - 321s 7s/step - loss: 1.2467 - accuracy: 0.4997 - val_loss: 1.2080 - val_accuracy: 0.4659\n",
      "Epoch 43/100\n",
      "47/47 [==============================] - 322s 7s/step - loss: 1.2536 - accuracy: 0.4636 - val_loss: 1.2022 - val_accuracy: 0.5114\n",
      "Epoch 44/100\n",
      "47/47 [==============================] - 321s 7s/step - loss: 1.2552 - accuracy: 0.4750 - val_loss: 1.2113 - val_accuracy: 0.4500\n",
      "Epoch 45/100\n",
      "47/47 [==============================] - 322s 7s/step - loss: 1.2461 - accuracy: 0.4930 - val_loss: 1.2214 - val_accuracy: 0.4909\n",
      "Epoch 46/100\n",
      "47/47 [==============================] - 322s 7s/step - loss: 1.2376 - accuracy: 0.4897 - val_loss: 1.2077 - val_accuracy: 0.4750\n",
      "Epoch 47/100\n",
      "47/47 [==============================] - 323s 7s/step - loss: 1.2513 - accuracy: 0.4783 - val_loss: 1.1923 - val_accuracy: 0.5068\n",
      "Epoch 48/100\n",
      "47/47 [==============================] - 323s 7s/step - loss: 1.2423 - accuracy: 0.4903 - val_loss: 1.1969 - val_accuracy: 0.5023\n",
      "Epoch 49/100\n",
      "47/47 [==============================] - 322s 7s/step - loss: 1.2609 - accuracy: 0.4730 - val_loss: 1.2173 - val_accuracy: 0.4773\n",
      "Epoch 50/100\n",
      "47/47 [==============================] - 331s 7s/step - loss: 1.2502 - accuracy: 0.4763 - val_loss: 1.1954 - val_accuracy: 0.5023\n",
      "Epoch 51/100\n",
      "47/47 [==============================] - 324s 7s/step - loss: 1.2316 - accuracy: 0.4950 - val_loss: 1.2165 - val_accuracy: 0.4727\n",
      "Epoch 52/100\n",
      "47/47 [==============================] - 324s 7s/step - loss: 1.2403 - accuracy: 0.4977 - val_loss: 1.1847 - val_accuracy: 0.5227\n",
      "Epoch 53/100\n",
      "47/47 [==============================] - 324s 7s/step - loss: 1.2272 - accuracy: 0.4917 - val_loss: 1.2198 - val_accuracy: 0.4386\n",
      "Epoch 54/100\n",
      "47/47 [==============================] - 324s 7s/step - loss: 1.2408 - accuracy: 0.4723 - val_loss: 1.1802 - val_accuracy: 0.5159\n",
      "Epoch 55/100\n",
      "47/47 [==============================] - 324s 7s/step - loss: 1.2303 - accuracy: 0.4990 - val_loss: 1.2184 - val_accuracy: 0.4659\n",
      "Epoch 56/100\n",
      "47/47 [==============================] - 325s 7s/step - loss: 1.2346 - accuracy: 0.4937 - val_loss: 1.1886 - val_accuracy: 0.5091\n",
      "Epoch 57/100\n",
      "47/47 [==============================] - 325s 7s/step - loss: 1.2293 - accuracy: 0.4890 - val_loss: 1.2167 - val_accuracy: 0.5318\n",
      "Epoch 58/100\n",
      "47/47 [==============================] - 323s 7s/step - loss: 1.2454 - accuracy: 0.4843 - val_loss: 1.1981 - val_accuracy: 0.5045\n",
      "Epoch 59/100\n",
      "47/47 [==============================] - 323s 7s/step - loss: 1.2130 - accuracy: 0.5023 - val_loss: 1.2006 - val_accuracy: 0.4932\n",
      "Epoch 60/100\n",
      "47/47 [==============================] - 322s 7s/step - loss: 1.2258 - accuracy: 0.4863 - val_loss: 1.1821 - val_accuracy: 0.4977\n",
      "Epoch 61/100\n",
      "47/47 [==============================] - 334s 7s/step - loss: 1.2271 - accuracy: 0.4997 - val_loss: 1.1725 - val_accuracy: 0.5227\n",
      "Epoch 62/100\n",
      "47/47 [==============================] - 326s 7s/step - loss: 1.2459 - accuracy: 0.4917 - val_loss: 1.2002 - val_accuracy: 0.4886\n",
      "Epoch 63/100\n",
      "47/47 [==============================] - 327s 7s/step - loss: 1.2321 - accuracy: 0.4897 - val_loss: 1.1818 - val_accuracy: 0.5091\n",
      "Epoch 64/100\n",
      "47/47 [==============================] - 326s 7s/step - loss: 1.2309 - accuracy: 0.5010 - val_loss: 1.1884 - val_accuracy: 0.5205\n",
      "Epoch 65/100\n",
      "47/47 [==============================] - 326s 7s/step - loss: 1.2246 - accuracy: 0.4983 - val_loss: 1.2039 - val_accuracy: 0.4818\n",
      "Epoch 66/100\n",
      "47/47 [==============================] - 325s 7s/step - loss: 1.2223 - accuracy: 0.4957 - val_loss: 1.1818 - val_accuracy: 0.5227\n",
      "Epoch 67/100\n",
      "47/47 [==============================] - 325s 7s/step - loss: 1.2272 - accuracy: 0.4897 - val_loss: 1.2011 - val_accuracy: 0.5000\n",
      "Epoch 68/100\n",
      "47/47 [==============================] - 325s 7s/step - loss: 1.2369 - accuracy: 0.4777 - val_loss: 1.1905 - val_accuracy: 0.5000\n",
      "Epoch 69/100\n",
      "47/47 [==============================] - 325s 7s/step - loss: 1.2338 - accuracy: 0.4797 - val_loss: 1.1837 - val_accuracy: 0.5114\n",
      "Epoch 70/100\n",
      "47/47 [==============================] - 325s 7s/step - loss: 1.2376 - accuracy: 0.4883 - val_loss: 1.1836 - val_accuracy: 0.5068\n",
      "Epoch 71/100\n",
      "47/47 [==============================] - 324s 7s/step - loss: 1.2319 - accuracy: 0.5097 - val_loss: 1.1693 - val_accuracy: 0.5318\n",
      "Epoch 72/100\n",
      "47/47 [==============================] - 335s 7s/step - loss: 1.2322 - accuracy: 0.4983 - val_loss: 1.1970 - val_accuracy: 0.5045\n",
      "Epoch 73/100\n",
      "47/47 [==============================] - 327s 7s/step - loss: 1.2209 - accuracy: 0.5070 - val_loss: 1.1864 - val_accuracy: 0.5205\n",
      "Epoch 74/100\n",
      "47/47 [==============================] - 336s 7s/step - loss: 1.2221 - accuracy: 0.4803 - val_loss: 1.1852 - val_accuracy: 0.5000\n",
      "Epoch 75/100\n",
      "47/47 [==============================] - 379s 8s/step - loss: 1.2449 - accuracy: 0.4770 - val_loss: 1.1990 - val_accuracy: 0.4955\n",
      "Epoch 76/100\n",
      "47/47 [==============================] - 353s 8s/step - loss: 1.2306 - accuracy: 0.4910 - val_loss: 1.2188 - val_accuracy: 0.4455\n",
      "Epoch 77/100\n",
      "47/47 [==============================] - 357s 8s/step - loss: 1.2258 - accuracy: 0.4903 - val_loss: 1.1860 - val_accuracy: 0.4864\n",
      "Epoch 78/100\n",
      "47/47 [==============================] - 355s 8s/step - loss: 1.2295 - accuracy: 0.4837 - val_loss: 1.1801 - val_accuracy: 0.5091\n",
      "Epoch 79/100\n",
      "47/47 [==============================] - 365s 8s/step - loss: 1.2357 - accuracy: 0.4797 - val_loss: 1.1838 - val_accuracy: 0.5114\n",
      "Epoch 80/100\n",
      "47/47 [==============================] - 340s 7s/step - loss: 1.2045 - accuracy: 0.5070 - val_loss: 1.1768 - val_accuracy: 0.5114\n",
      "Epoch 81/100\n",
      "47/47 [==============================] - 384s 8s/step - loss: 1.2159 - accuracy: 0.4897 - val_loss: 1.1818 - val_accuracy: 0.5159\n",
      "Epoch 82/100\n",
      "47/47 [==============================] - 363s 8s/step - loss: 1.2137 - accuracy: 0.5017 - val_loss: 1.1882 - val_accuracy: 0.5159\n",
      "Epoch 83/100\n",
      "47/47 [==============================] - 365s 8s/step - loss: 1.2254 - accuracy: 0.4910 - val_loss: 1.1732 - val_accuracy: 0.5205\n",
      "Epoch 84/100\n",
      "47/47 [==============================] - 370s 8s/step - loss: 1.2116 - accuracy: 0.5037 - val_loss: 1.1875 - val_accuracy: 0.4841\n",
      "Epoch 85/100\n",
      "47/47 [==============================] - 24675s 536s/step - loss: 1.2277 - accuracy: 0.4870 - val_loss: 1.1803 - val_accuracy: 0.5318\n",
      "Epoch 86/100\n",
      "47/47 [==============================] - 342s 7s/step - loss: 1.2185 - accuracy: 0.5110 - val_loss: 1.1668 - val_accuracy: 0.5273\n",
      "Epoch 87/100\n",
      "47/47 [==============================] - 334s 7s/step - loss: 1.2097 - accuracy: 0.5050 - val_loss: 1.1698 - val_accuracy: 0.5341\n",
      "Epoch 88/100\n",
      "47/47 [==============================] - 334s 7s/step - loss: 1.2203 - accuracy: 0.5123 - val_loss: 1.1809 - val_accuracy: 0.5159\n",
      "Epoch 89/100\n",
      "47/47 [==============================] - 345s 7s/step - loss: 1.2088 - accuracy: 0.5030 - val_loss: 1.1898 - val_accuracy: 0.5227\n",
      "Epoch 90/100\n",
      "47/47 [==============================] - 364s 8s/step - loss: 1.2104 - accuracy: 0.5143 - val_loss: 1.1788 - val_accuracy: 0.5091\n",
      "Epoch 91/100\n",
      "47/47 [==============================] - 368s 8s/step - loss: 1.2107 - accuracy: 0.4997 - val_loss: 1.1881 - val_accuracy: 0.5045\n",
      "Epoch 92/100\n",
      "47/47 [==============================] - 336s 7s/step - loss: 1.2323 - accuracy: 0.4857 - val_loss: 1.1949 - val_accuracy: 0.4955\n",
      "Epoch 93/100\n",
      "47/47 [==============================] - 375s 8s/step - loss: 1.2282 - accuracy: 0.4890 - val_loss: 1.1814 - val_accuracy: 0.5114\n",
      "Epoch 94/100\n",
      "47/47 [==============================] - 367s 8s/step - loss: 1.2097 - accuracy: 0.5103 - val_loss: 1.1873 - val_accuracy: 0.5091\n",
      "Epoch 95/100\n",
      "47/47 [==============================] - 363s 8s/step - loss: 1.2240 - accuracy: 0.4970 - val_loss: 1.1887 - val_accuracy: 0.5182\n",
      "Epoch 96/100\n",
      "47/47 [==============================] - 336s 7s/step - loss: 1.2064 - accuracy: 0.5170 - val_loss: 1.1624 - val_accuracy: 0.5318\n",
      "Epoch 97/100\n",
      "47/47 [==============================] - 348s 7s/step - loss: 1.2202 - accuracy: 0.4997 - val_loss: 1.1633 - val_accuracy: 0.5227\n",
      "Epoch 98/100\n",
      "47/47 [==============================] - 331s 7s/step - loss: 1.2193 - accuracy: 0.4957 - val_loss: 1.2119 - val_accuracy: 0.5045\n",
      "Epoch 99/100\n",
      "47/47 [==============================] - 334s 7s/step - loss: 1.2273 - accuracy: 0.5003 - val_loss: 1.1746 - val_accuracy: 0.5114\n",
      "Epoch 100/100\n",
      "47/47 [==============================] - 330s 7s/step - loss: 1.2301 - accuracy: 0.4930 - val_loss: 1.1793 - val_accuracy: 0.5159\n"
     ]
    }
   ],
   "source": [
    "history = model_.fit(training_set, validation_data=testing_set,epochs=100)"
   ]
  },
  {
   "cell_type": "code",
   "execution_count": 12,
   "id": "573c1a34",
   "metadata": {},
   "outputs": [
    {
     "name": "stdout",
     "output_type": "stream",
     "text": [
      "WARNING:tensorflow:Using a while_loop for converting RngReadAndSkip cause there is no registered converter for this op.\n",
      "WARNING:tensorflow:Using a while_loop for converting Bitcast cause there is no registered converter for this op.\n",
      "WARNING:tensorflow:Using a while_loop for converting Bitcast cause there is no registered converter for this op.\n",
      "WARNING:tensorflow:Using a while_loop for converting StatelessRandomUniformV2 cause there is no registered converter for this op.\n",
      "WARNING:tensorflow:Using a while_loop for converting ImageProjectiveTransformV3 cause there is no registered converter for this op.\n",
      "WARNING:tensorflow:Using a while_loop for converting RngReadAndSkip cause there is no registered converter for this op.\n",
      "WARNING:tensorflow:Using a while_loop for converting Bitcast cause there is no registered converter for this op.\n",
      "WARNING:tensorflow:Using a while_loop for converting Bitcast cause there is no registered converter for this op.\n",
      "WARNING:tensorflow:Using a while_loop for converting StatelessRandomUniformV2 cause there is no registered converter for this op.\n",
      "WARNING:tensorflow:Using a while_loop for converting ImageProjectiveTransformV3 cause there is no registered converter for this op.\n",
      "WARNING:tensorflow:Using a while_loop for converting RngReadAndSkip cause there is no registered converter for this op.\n",
      "WARNING:tensorflow:Using a while_loop for converting Bitcast cause there is no registered converter for this op.\n",
      "WARNING:tensorflow:Using a while_loop for converting Bitcast cause there is no registered converter for this op.\n",
      "WARNING:tensorflow:Using a while_loop for converting StatelessRandomUniformV2 cause there is no registered converter for this op.\n",
      "WARNING:tensorflow:Using a while_loop for converting ImageProjectiveTransformV3 cause there is no registered converter for this op.\n",
      "WARNING:tensorflow:Using a while_loop for converting RngReadAndSkip cause there is no registered converter for this op.\n",
      "WARNING:tensorflow:Using a while_loop for converting Bitcast cause there is no registered converter for this op.\n",
      "WARNING:tensorflow:Using a while_loop for converting Bitcast cause there is no registered converter for this op.\n",
      "WARNING:tensorflow:Using a while_loop for converting StatelessRandomUniformV2 cause there is no registered converter for this op.\n",
      "WARNING:tensorflow:Using a while_loop for converting ImageProjectiveTransformV3 cause there is no registered converter for this op.\n"
     ]
    },
    {
     "name": "stderr",
     "output_type": "stream",
     "text": [
      "WARNING:absl:Found untraced functions such as _jit_compiled_convolution_op, _jit_compiled_convolution_op, _jit_compiled_convolution_op, _jit_compiled_convolution_op, _jit_compiled_convolution_op while saving (showing 5 of 53). These functions will not be directly callable after loading.\n"
     ]
    },
    {
     "name": "stdout",
     "output_type": "stream",
     "text": [
      "INFO:tensorflow:Assets written to: ./trainedModelResNet50\\assets\n"
     ]
    },
    {
     "name": "stderr",
     "output_type": "stream",
     "text": [
      "INFO:tensorflow:Assets written to: ./trainedModelResNet50\\assets\n"
     ]
    }
   ],
   "source": [
    "model_.save(\"./trainedModelResNet50\")"
   ]
  },
  {
   "cell_type": "code",
   "execution_count": 4,
   "id": "c4dd7dec",
   "metadata": {},
   "outputs": [
    {
     "name": "stdout",
     "output_type": "stream",
     "text": [
      "WARNING:tensorflow:Using a while_loop for converting RngReadAndSkip cause there is no registered converter for this op.\n",
      "WARNING:tensorflow:Using a while_loop for converting Bitcast cause there is no registered converter for this op.\n",
      "WARNING:tensorflow:Using a while_loop for converting Bitcast cause there is no registered converter for this op.\n",
      "WARNING:tensorflow:Using a while_loop for converting StatelessRandomUniformV2 cause there is no registered converter for this op.\n",
      "WARNING:tensorflow:Using a while_loop for converting ImageProjectiveTransformV3 cause there is no registered converter for this op.\n"
     ]
    }
   ],
   "source": [
    "model = tf.keras.models.load_model(\"./trainedModelResNet50\")"
   ]
  },
  {
   "cell_type": "code",
   "execution_count": 14,
   "id": "b03d13fa",
   "metadata": {},
   "outputs": [
    {
     "name": "stdout",
     "output_type": "stream",
     "text": [
      "Model: \"model\"\n",
      "_________________________________________________________________\n",
      " Layer (type)                Output Shape              Param #   \n",
      "=================================================================\n",
      " input_2 (InputLayer)        [(None, 180, 180, 3)]     0         \n",
      "                                                                 \n",
      " sequential (Sequential)     (None, 180, 180, 3)       0         \n",
      "                                                                 \n",
      " tf.math.truediv (TFOpLambda  (None, 180, 180, 3)      0         \n",
      " )                                                               \n",
      "                                                                 \n",
      " tf.math.subtract (TFOpLambd  (None, 180, 180, 3)      0         \n",
      " a)                                                              \n",
      "                                                                 \n",
      " resnet50 (Functional)       (None, 6, 6, 2048)        23587712  \n",
      "                                                                 \n",
      " global_average_pooling2d (G  (None, 2048)             0         \n",
      " lobalAveragePooling2D)                                          \n",
      "                                                                 \n",
      " dropout (Dropout)           (None, 2048)              0         \n",
      "                                                                 \n",
      " dense (Dense)               (None, 5)                 10245     \n",
      "                                                                 \n",
      "=================================================================\n",
      "Total params: 23,597,957\n",
      "Trainable params: 10,245\n",
      "Non-trainable params: 23,587,712\n",
      "_________________________________________________________________\n"
     ]
    }
   ],
   "source": [
    "model.summary()"
   ]
  },
  {
   "cell_type": "markdown",
   "id": "0e8c08b4",
   "metadata": {},
   "source": [
    "# Evaluate the model"
   ]
  },
  {
   "cell_type": "code",
   "execution_count": 15,
   "id": "6541858d",
   "metadata": {},
   "outputs": [
    {
     "name": "stderr",
     "output_type": "stream",
     "text": [
      "C:\\Users\\pc\\anaconda3\\lib\\site-packages\\tensorflow\\python\\util\\dispatch.py:1170: UserWarning: \"`sparse_categorical_crossentropy` received `from_logits=True`, but the `output` argument was produced by a sigmoid or softmax activation and thus does not represent logits. Was this intended?\"\n",
      "  return dispatch_target(*args, **kwargs)\n"
     ]
    },
    {
     "name": "stdout",
     "output_type": "stream",
     "text": [
      "14/14 [==============================] - 75s 5s/step - loss: 1.1793 - accuracy: 0.5159\n"
     ]
    },
    {
     "data": {
      "image/png": "[encoded data removed]",
      "text/plain": [
       "<Figure size 432x288 with 1 Axes>"
      ]
     },
     "metadata": {
      "needs_background": "light"
     },
     "output_type": "display_data"
    },
    {
     "data": {
      "image/png": "[encoded data removed]",
      "text/plain": [
       "<Figure size 432x288 with 1 Axes>"
      ]
     },
     "metadata": {
      "needs_background": "light"
     },
     "output_type": "display_data"
    }
   ],
   "source": [
    "scores = model.evaluate(testing_set)\n",
    "\n",
    "fix,ax_acc = plt.subplots()\n",
    "plt.plot(history.history['accuracy'])\n",
    "plt.plot(history.history['val_accuracy'])\n",
    "plt.xlabel('Epochs')\n",
    "plt.ylabel('Accuracy')\n",
    "plt.title('Model - Accuracy')\n",
    "plt.legend(['Training','Validation'],loc='lower right')\n",
    "plt.show()\n",
    "\n",
    "fix,ax_loss = plt.subplots()\n",
    "plt.plot(history.history['loss'])\n",
    "plt.plot(history.history['val_loss'])\n",
    "plt.xlabel('Epochs')\n",
    "plt.ylabel('Loss')\n",
    "plt.title('Model - Loss')\n",
    "plt.legend(['Training','Validation'],loc='upper right')\n",
    "plt.show()"
   ]
  },
  {
   "cell_type": "markdown",
   "id": "a90d3f16",
   "metadata": {},
   "source": [
    "# Make the prediction"
   ]
  },
  {
   "cell_type": "code",
   "execution_count": 1,
   "id": "f6a3e356",
   "metadata": {},
   "outputs": [],
   "source": [
    "def detectDiabetic(image):\n",
    "    image1=tf.keras.preprocessing.image.load_img(image,target_size=(180,180))\n",
    "    \n",
    "    img_array=tf.keras.preprocessing.image.img_to_array(image1) # Convert the image to an array\n",
    "    img_array=tf.expand_dims(img_array,0)\n",
    "    prediction=model.predict(img_array)\n",
    "    label=np.argmax(prediction[0])\n",
    "    if label == 0:\n",
    "        rslt = \" No DR\"\n",
    "    if label == 1: \n",
    "        rslt = \" Mild\"\n",
    "    if label == 2: \n",
    "        rslt = \" Moderate\"\n",
    "    if label == 3: \n",
    "        rslt = \" Severe\"\n",
    "    if label == 4: \n",
    "        rslt = \" Proliferate DR\"\n",
    "    return (rslt,image)"
   ]
  },
  {
   "cell_type": "markdown",
   "id": "7a3657ed",
   "metadata": {},
   "source": [
    "# Create the user interface using tkinter"
   ]
  },
  {
   "cell_type": "code",
   "execution_count": 10,
   "id": "1f4c15f1",
   "metadata": {},
   "outputs": [
    {
     "name": "stdout",
     "output_type": "stream",
     "text": [
      "1: C:/Users/pc/Documents/GitHub/Medical-images-Classification/images/1.png\n",
      "1/1 [==============================] - 0s 228ms/step\n"
     ]
    }
   ],
   "source": [
    "from faulthandler import disable\n",
    "from tkinter import *\n",
    "from tkinter.ttk import * \n",
    "from tkinter.filedialog import askopenfile \n",
    "import time\n",
    "from turtle import color, width \n",
    "from PIL import ImageTk, Image\n",
    "import tkinter as tk\n",
    "from tkinter import filedialog \n",
    "ws = Tk()\n",
    "ws.title(\"Diabetics Retinopathy  Classification\")\n",
    "ws.geometry('850x525')\n",
    "ws.resizable(0,0)\n",
    "\n",
    "imgbg= Image.open(\"images/h4.jpg\")\n",
    "imgbg=imgbg.resize((850,525))\n",
    "imgbg = ImageTk.PhotoImage(imgbg)\n",
    "lab= tk.Label(ws,image = imgbg)\n",
    "lab.place(x = 0 , y = 0)\n",
    "\n",
    "ws.grid_rowconfigure(0,weight=1)\n",
    "ws.grid_columnconfigure(0,weight=1)\n",
    "\n",
    "myframe= Frame(ws, width=850, height=500)\n",
    "myframe.grid(row=0,pady=4)\n",
    "# myframe.pack(fill=BOTH, expand=True)\n",
    "# sticky='nsew'\n",
    "imgbg2= Image.open(\"images/h2.jpg\")\n",
    "imgbg2=imgbg2.resize((800,500))\n",
    "imgbg2 = ImageTk.PhotoImage(imgbg2)\n",
    "lab2= tk.Label(myframe,image = imgbg2)\n",
    "lab2.place(x = 0 , y = 0)\n",
    "\n",
    "myframe.grid_rowconfigure(0,weight=1)\n",
    "myframe.grid_columnconfigure(1,weight=1)\n",
    "\n",
    "bottom_frame = Frame(ws, width=800,height=25)\n",
    "bottom_frame.grid(row=1)\n",
    "btmtext = tk.Label(bottom_frame, text=\"~ Said Meziany :2022 ~\", fg=\"red\", font=\"Helvetica  10 bold\",width=120)\n",
    "btmtext.grid(row=0,column=0)\n",
    "\n",
    "left_frame = Frame(myframe,height=450, width=400)\n",
    "left_frame.grid(row=0,column=1)\n",
    "\n",
    "right_frame = Frame(myframe, height=450,width=400)\n",
    "right_frame.grid(row=0,column=2,padx=20,pady=10)\n",
    "\n",
    "# bg2 = PhotoImage(file = 'images/bg1.png', master=left_frame)\n",
    "lab= tk.Label(left_frame,image = imgbg2, padx=-6)\n",
    "lab.place(x = 0 , y = 0 )\n",
    "lab= Label(right_frame,image = imgbg2)\n",
    "lab.place(x = -3 , y = -3)\n",
    "\n",
    "def makeProgressbar():\n",
    "    pd1= Progressbar(\n",
    "    right_frame,\n",
    "        orient=HORIZONTAL,\n",
    "        length = 300,\n",
    "        mode = 'determinate',\n",
    "    )\n",
    "    pd1.grid(row=10,column=6, pady=150)\n",
    "    for i in range(5):\n",
    "        ws.update_idletasks()\n",
    "        pd1['value'] +=20\n",
    "        time.sleep(1)\n",
    "    pd1.destroy()\n",
    "    # Label(ws, text='File Uploaded Successfully!',foreground='green').grid(row=4,columnspan=3,pady=10)\n",
    "\n",
    "l1 = tk.Label(left_frame, text='||~ Select an Image ~||',font='Helvetica  16 bold',fg=\"green\")\n",
    "l1.grid(row=1,column=6,padx=20, pady=20)\n",
    "\n",
    "upld= tk.Button(left_frame, text='Choose Image',font=\"Helvetica  13 bold\", fg=\"red\",command=lambda:upload_Images(),width=25)\n",
    "upld.grid(row=2,column=6,padx=20,pady=1)\n",
    "\n",
    "dtc= tk.Button(right_frame, text='Detect' ,width=30,font=\"Helvetica  13 bold\", fg=\"red\",command=lambda:Predict())\n",
    "dtc.grid(row=2,column=6,padx=40,pady=1)\n",
    "\n",
    "def upload_Images():\n",
    "    global filename\n",
    "    F_Types=[('PNG files','*.png'),('Jpg files','*.jpg'),('Jpeg files','*.jpeg')]\n",
    "    filename = tk.filedialog.askopenfilename(filetypes=F_Types)\n",
    "\n",
    "    img= Image.open(filename)\n",
    "    img=img.resize((300,300))\n",
    "    image = ImageTk.PhotoImage(img)\n",
    "    e1=tk.Button(left_frame)\n",
    "    e1.grid(row=5,column=6,padx=20,pady=70)\n",
    "    e1.image=image\n",
    "    e1['image']=image\n",
    "    if image is not None:\n",
    "        pass\n",
    "def Predict():\n",
    "    rslt,image = detectDiabetic(filename)\n",
    "    if rslt is not None:\n",
    "        makeProgressbar()\n",
    "    else: \n",
    "        pass\n",
    "    img1= Image.open(image)\n",
    "    img1=img1.resize((300,300))\n",
    "    image1 = ImageTk.PhotoImage(img1)\n",
    "    e1=tk.Button(right_frame)\n",
    "    e1.grid(row=5,column=6,padx=20,pady=50)\n",
    "    e1.image=image1\n",
    "    e1['image']=image1\n",
    "\n",
    "    tk.Button(right_frame, text=\"Result : \" +rslt , state=DISABLED, font=\"Helvetica  14 bold\", fg=\"black\", width=30).grid(row=3,column=6, pady=20)\n",
    "    if filename is not None:\n",
    "        pass\n",
    "\n",
    "\n",
    "ws.mainloop()"
   ]
  },
  {
   "cell_type": "code",
   "execution_count": null,
   "id": "27ec2b23",
   "metadata": {},
   "outputs": [],
   "source": []
  },
  {
   "cell_type": "code",
   "execution_count": null,
   "id": "2d6144ab",
   "metadata": {},
   "outputs": [],
   "source": []
  }
 ],
 "metadata": {
  "kernelspec": {
   "display_name": "Python 3 (ipykernel)",
   "language": "python",
   "name": "python3"
  },
  "language_info": {
   "codemirror_mode": {
    "name": "ipython",
    "version": 3
   },
   "file_extension": ".py",
   "mimetype": "text/x-python",
   "name": "python",
   "nbconvert_exporter": "python",
   "pygments_lexer": "ipython3",
   "version": "3.9.7"
  }
 },
 "nbformat": 4,
 "nbformat_minor": 5
}
